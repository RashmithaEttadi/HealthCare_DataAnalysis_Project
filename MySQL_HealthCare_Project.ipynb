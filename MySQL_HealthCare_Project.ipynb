{
 "cells": [
  {
   "cell_type": "markdown",
   "id": "0b52378a-eb32-4a52-b08c-e3f6c6e90435",
   "metadata": {},
   "source": [
    "<font size=\"6\">MySQL Project in Python3</font>"
   ]
  },
  {
   "cell_type": "markdown",
   "id": "ca70d5df-474c-4d6a-995b-4836db54065c",
   "metadata": {},
   "source": [
    "<font size=\"3\">Import the \"mysql-connector\" package so that you can use SQL in Python3.</font>"
   ]
  },
  {
   "cell_type": "code",
   "execution_count": 28,
   "id": "20cc3fe1-f590-4538-9310-8a49b8a1077a",
   "metadata": {},
   "outputs": [],
   "source": [
    "#import package, if it does not work, restart the console and re-run this command.\n",
    "import mysql.connector"
   ]
  },
  {
   "cell_type": "markdown",
   "id": "e52cb9b4-ec0b-4c5c-a593-bd30448f3ffe",
   "metadata": {},
   "source": [
    "<font size=\"3\">Connect your MySQL server</font>"
   ]
  },
  {
   "cell_type": "code",
   "execution_count": null,
   "id": "81b8ed5f-5286-4368-bf0c-a3052c7391c4",
   "metadata": {},
   "outputs": [],
   "source": [
    "#input the credentials\n",
    "connection = mysql.connector.connect(\n",
    "    host=\"0.0.0.0\",  # Hostname\n",
    "    user=\"user_name\",   # Username\n",
    "    password=\"pass_Word\",  # Password\n",
    "    database=\"db_name\"  # Database name\n",
    ")\n",
    "\n",
    "cursor = connection.cursor()"
   ]
  },
  {
   "cell_type": "markdown",
   "id": "a2ed7f1a-f744-472b-9057-aae9380ff100",
   "metadata": {},
   "source": [
    "<font size=\"6\">Table Creation</font>"
   ]
  },
  {
   "cell_type": "markdown",
   "id": "e5f4e160-0090-4de6-9a4a-ffe959bd317e",
   "metadata": {},
   "source": [
    "<font size=\"3\">Please create tables using the ER diagram, define primary keys and foreign keys.</font>"
   ]
  },
  {
   "cell_type": "markdown",
   "id": "8b270f5b-96ca-4ca1-891e-fc74ebb7d9f9",
   "metadata": {},
   "source": [
    "<img src=\"ER.jpg\" alt=\"Alternative text\" />"
   ]
  },
  {
   "cell_type": "code",
   "execution_count": 3,
   "id": "1720d1dc-75df-4b38-9e60-bb75c493e683",
   "metadata": {},
   "outputs": [],
   "source": [
    "#create employees table\n",
    "cursor.execute(\"\"\"\n",
    "CREATE TABLE IF NOT EXISTS employees (\n",
    "    emp_no INT PRIMARY KEY,\n",
    "    birth_date DATE,\n",
    "    first_name VARCHAR(14),\n",
    "    last_name VARCHAR(16),\n",
    "    sex ENUM ('M', 'F'),\n",
    "    hire_date DATE\n",
    ")\n",
    "\"\"\")"
   ]
  },
  {
   "cell_type": "code",
   "execution_count": 4,
   "id": "2b3bb48c-320a-41b3-a38b-4a65828fe104",
   "metadata": {},
   "outputs": [],
   "source": [
    "#create departments table\n",
    "cursor.execute(\"\"\"\n",
    "CREATE TABLE departments (\n",
    "    dept_no     CHAR(4)         NOT NULL,\n",
    "    dept_name   VARCHAR(40)     NOT NULL,\n",
    "    PRIMARY KEY (dept_no),\n",
    "    UNIQUE  KEY (dept_name)\n",
    ")\n",
    "\"\"\")"
   ]
  },
  {
   "cell_type": "code",
   "execution_count": 5,
   "id": "a4c43584-38a4-4a73-850f-cce54a9699d7",
   "metadata": {},
   "outputs": [],
   "source": [
    "#create dept_manager table\n",
    "\n",
    "\n",
    "cursor.execute(\"\"\"\n",
    "CREATE TABLE dept_manager (\n",
    "   emp_no       INT             NOT NULL,\n",
    "   dept_no      CHAR(4)         NOT NULL,\n",
    "   from_date    DATE            NOT NULL,\n",
    "   to_date      DATE            NOT NULL,\n",
    "   FOREIGN KEY (emp_no)  REFERENCES employees (emp_no)    ON DELETE CASCADE,\n",
    "   FOREIGN KEY (dept_no) REFERENCES departments (dept_no) ON DELETE CASCADE,\n",
    "   PRIMARY KEY (emp_no,dept_no)\n",
    ")\n",
    "\"\"\")"
   ]
  },
  {
   "cell_type": "code",
   "execution_count": 9,
   "id": "96d64eba-f05b-48ca-b291-2d2d0e3c77d9",
   "metadata": {},
   "outputs": [],
   "source": [
    "#create dept_emp table\n",
    "cursor.execute(\"\"\"\n",
    "CREATE TABLE IF NOT EXISTS dept_emp (\n",
    "    emp_no       INT             NOT NULL,\n",
    "    dept_no      CHAR(4)         NOT NULL,\n",
    "    from_date    DATE            NOT NULL,\n",
    "    to_date      DATE            NOT NULL,\n",
    "    FOREIGN KEY (emp_no)  REFERENCES employees (emp_no)    ON DELETE CASCADE,\n",
    "    FOREIGN KEY (dept_no) REFERENCES departments (dept_no) ON DELETE CASCADE,\n",
    "    PRIMARY KEY (emp_no,dept_no)\n",
    ")\n",
    "\"\"\")"
   ]
  },
  {
   "cell_type": "code",
   "execution_count": 3,
   "id": "5fa63471-a8b6-4421-b567-c6bfb575f3d2",
   "metadata": {},
   "outputs": [],
   "source": [
    "#create title table PRIMARY KEY SHOULD BE (emp_no,title,from_date)\n",
    "cursor.execute(\"\"\"\n",
    "CREATE TABLE IF NOT EXISTS title (\n",
    "     emp_no       INT             NOT NULL,\n",
    "     title   VARCHAR(100)     NOT NULL,\n",
    "     from_date    DATE            NOT NULL,\n",
    "     to_date      DATE            NOT NULL,\n",
    "     FOREIGN KEY (emp_no)  REFERENCES employees (emp_no)    ON DELETE CASCADE,\n",
    "     PRIMARY KEY (emp_no,title,from_date,to_date)\n",
    ")\n",
    "\"\"\")"
   ]
  },
  {
   "cell_type": "markdown",
   "id": "349ebdd7-a0e7-4cda-b2f9-f6493400a9ee",
   "metadata": {},
   "source": [
    "<font size=\"6\">Insert Data</font>"
   ]
  },
  {
   "cell_type": "markdown",
   "id": "8fba3ebc-dee0-40bf-be00-d07bc3f74a3d",
   "metadata": {},
   "source": [
    "<font size=\"3\">Congrats on table creation. Please populate data into the tables.</font>"
   ]
  },
  {
   "cell_type": "code",
   "execution_count": 4,
   "id": "f2003b7d-7b7b-4231-a7b7-7a4b3a35a822",
   "metadata": {},
   "outputs": [],
   "source": [
    "#import csv module\n",
    "import csv"
   ]
  },
  {
   "cell_type": "code",
   "execution_count": 12,
   "id": "5e02940d-6bc7-426e-8665-5916ea5301e6",
   "metadata": {},
   "outputs": [],
   "source": [
    "#populate data to employee table, it may take around a minute\n",
    "with open('load_employees.csv', 'r') as f:\n",
    "    csv_reader = csv.reader(f)\n",
    "    for row in csv_reader:\n",
    "        cursor.execute(\"INSERT INTO employees (emp_no, birth_date, first_name, last_name, sex, hire_date) VALUES (%s, %s, %s, %s, %s, %s)\", row)\n",
    "\n",
    "# Commit changes\n",
    "connection.commit()"
   ]
  },
  {
   "cell_type": "markdown",
   "id": "6708a11f-35f3-489a-a6a5-1ed2f8638853",
   "metadata": {},
   "source": [
    "<font size=\"3\">Do a simple select query on employee to check whether the data has been populated.</font>"
   ]
  },
  {
   "cell_type": "code",
   "execution_count": 13,
   "id": "f5a774c7-c2a6-4159-a210-9feaea9a1342",
   "metadata": {},
   "outputs": [
    {
     "name": "stdout",
     "output_type": "stream",
     "text": [
      "(10001, datetime.date(1953, 9, 2), 'Georgi', 'Facello', 'M', datetime.date(1986, 6, 26))\n",
      "(10002, datetime.date(1964, 6, 2), 'Bezalel', 'Simmel', 'F', datetime.date(1985, 11, 21))\n",
      "(10003, datetime.date(1959, 12, 3), 'Parto', 'Bamford', 'M', datetime.date(1986, 8, 28))\n",
      "(10004, datetime.date(1954, 5, 1), 'Chirstian', 'Koblick', 'M', datetime.date(1986, 12, 1))\n",
      "(10005, datetime.date(1955, 1, 21), 'Kyoichi', 'Maliniak', 'M', datetime.date(1989, 9, 12))\n"
     ]
    }
   ],
   "source": [
    "#simple test of 5 records\n",
    "cursor.execute(\"SELECT * FROM employees LIMIT 5;\")\n",
    "records = cursor.fetchall()\n",
    "for record in records:\n",
    "    print(record)"
   ]
  },
  {
   "cell_type": "code",
   "execution_count": 14,
   "id": "621f0b21-1817-4009-9ff2-cbe5d12f9c40",
   "metadata": {},
   "outputs": [],
   "source": [
    "#populate data to the departments, it may take a while\n",
    "with open('load_departments.csv', 'r') as f:\n",
    "    csv_reader = csv.reader(f)\n",
    "    for row in csv_reader:\n",
    "        cursor.execute(\"INSERT INTO departments (dept_no, dept_name) VALUES (%s, %s)\", row)\n",
    "\n",
    "# Commit changes\n",
    "connection.commit()"
   ]
  },
  {
   "cell_type": "code",
   "execution_count": 15,
   "id": "edd55fc7-ba99-411a-b6ef-8975ebae3718",
   "metadata": {},
   "outputs": [],
   "source": [
    "#populate data to dept_manager\n",
    "with open('load_dept_manager.csv', 'r') as f:\n",
    "    csv_reader = csv.reader(f)\n",
    "    for row in csv_reader:\n",
    "        cursor.execute(\"INSERT INTO dept_manager (emp_no, dept_no, from_date, to_date) VALUES (%s, %s, %s, %s)\", row)\n",
    "\n",
    "# Commit changes\n",
    "connection.commit()"
   ]
  },
  {
   "cell_type": "code",
   "execution_count": 16,
   "id": "ea715b1b-2f0d-4dae-a563-2b62d55b2382",
   "metadata": {},
   "outputs": [],
   "source": [
    "#populate data to the dept_emp, it may take a while\n",
    "with open('load_dept_emp.csv', 'r') as f:\n",
    "    csv_reader = csv.reader(f)\n",
    "    for row in csv_reader:\n",
    "        cursor.execute(\"INSERT INTO dept_emp (emp_no, dept_no, from_date, to_date) VALUES (%s, %s, %s, %s)\", row)\n",
    "\n",
    "# Commit changes\n",
    "connection.commit()"
   ]
  },
  {
   "cell_type": "code",
   "execution_count": 5,
   "id": "9ad2bd9e-e07d-4ec1-9fd6-fe42ea47bf85",
   "metadata": {},
   "outputs": [],
   "source": [
    "#populate data to the last title, it may take a while\n",
    "with open('load_titles.csv', 'r') as f:\n",
    "    csv_reader = csv.reader(f)\n",
    "    for row in csv_reader:\n",
    "        cursor.execute(\"INSERT INTO title (emp_no, title, from_date, to_date) VALUES (%s, %s, %s, %s)\", row)\n",
    "\n",
    "# Commit changes\n",
    "connection.commit()"
   ]
  },
  {
   "cell_type": "markdown",
   "id": "76917cea-4468-489b-9b89-8aefe0a19978",
   "metadata": {},
   "source": [
    "<font size=\"6\">SQL practice</font>"
   ]
  },
  {
   "cell_type": "code",
   "execution_count": 8,
   "id": "4536e353-36ec-4760-870e-ccf6acd1c067",
   "metadata": {},
   "outputs": [
    {
     "name": "stdout",
     "output_type": "stream",
     "text": [
      "(499999, datetime.date(1958, 5, 1), 'Sachin', 'Tsukuda', 'M', datetime.date(1997, 11, 30))\n",
      "(499998, datetime.date(1956, 9, 5), 'Patricia', 'Breugel', 'M', datetime.date(1993, 10, 13))\n",
      "(499997, datetime.date(1961, 8, 3), 'Berhard', 'Lenart', 'M', datetime.date(1986, 4, 21))\n",
      "(499996, datetime.date(1953, 3, 7), 'Zito', 'Baaz', 'M', datetime.date(1990, 9, 27))\n",
      "(499995, datetime.date(1958, 9, 24), 'Dekang', 'Lichtner', 'F', datetime.date(1993, 1, 12))\n"
     ]
    }
   ],
   "source": [
    "# Select the top 5 employees with the highest `emp_no`\n",
    "cursor.execute(\"\"\"\n",
    "SELECT * FROM employees\n",
    "ORDER BY emp_no DESC\n",
    "LIMIT 5;\"\"\")\n",
    "\n",
    "records = cursor.fetchall()\n",
    "for record in records:\n",
    "    print(record)"
   ]
  },
  {
   "cell_type": "code",
   "execution_count": 9,
   "id": "3e6eea5d-1066-49bf-a997-bedc96d8d9e1",
   "metadata": {},
   "outputs": [
    {
     "name": "stdout",
     "output_type": "stream",
     "text": [
      "(5434,)\n"
     ]
    }
   ],
   "source": [
    "# Find how many distinct `hire_date` values from the employees table.\n",
    "cursor.execute(\"\"\"\n",
    "SELECT COUNT(DISTINCT hire_date) FROM employees;\n",
    "\"\"\")\n",
    "\n",
    "records = cursor.fetchall()\n",
    "for record in records:\n",
    "    print(record)"
   ]
  },
  {
   "cell_type": "code",
   "execution_count": 10,
   "id": "a654e372-3e8e-4078-b56e-310c6e6eadd4",
   "metadata": {},
   "outputs": [
    {
     "name": "stdout",
     "output_type": "stream",
     "text": [
      "(10001, datetime.date(1953, 9, 2), 'Georgi', 'Facello', 'M', datetime.date(1986, 6, 26), 'Full time')\n",
      "(10002, datetime.date(1964, 6, 2), 'Bezalel', 'Simmel', 'F', datetime.date(1985, 11, 21), 'Full time')\n",
      "(10003, datetime.date(1959, 12, 3), 'Parto', 'Bamford', 'M', datetime.date(1986, 8, 28), 'Full time')\n",
      "(10004, datetime.date(1954, 5, 1), 'Chirstian', 'Koblick', 'M', datetime.date(1986, 12, 1), 'Full time')\n",
      "(10005, datetime.date(1955, 1, 21), 'Kyoichi', 'Maliniak', 'M', datetime.date(1989, 9, 12), 'Full time')\n"
     ]
    }
   ],
   "source": [
    "# Use a literal string to add a column indicating the employee type as Full time and display 5 records\n",
    "cursor.execute(\"\"\"\n",
    "\n",
    "SELECT *, 'Full time' AS employee_type\n",
    "FROM employees\n",
    "\n",
    "LIMIT 5;\"\"\")\n",
    "\n",
    "records = cursor.fetchall()\n",
    "for record in records:\n",
    "    print(record)"
   ]
  },
  {
   "cell_type": "code",
   "execution_count": 12,
   "id": "fe95958a-4b0c-46e7-b2ba-527171591a06",
   "metadata": {},
   "outputs": [
    {
     "name": "stdout",
     "output_type": "stream",
     "text": [
      "(10019, datetime.date(1953, 1, 23), 'Lillian', 'Haddadi', 'M', datetime.date(1999, 4, 30))\n",
      "(10105, datetime.date(1962, 2, 5), 'Hironoby', 'Piveteau', 'M', datetime.date(1999, 3, 23))\n",
      "(10298, datetime.date(1954, 7, 6), 'Dietrich', 'DuCasse', 'F', datetime.date(1999, 3, 30))\n",
      "(10684, datetime.date(1956, 1, 23), 'Aimee', 'Tokunaga', 'F', datetime.date(1999, 10, 28))\n",
      "(11315, datetime.date(1955, 4, 21), 'Neven', 'Meriste', 'M', datetime.date(1999, 7, 17))\n"
     ]
    }
   ],
   "source": [
    "# Find all employees hired after '1999-01-01' display 5 records.\n",
    "cursor.execute(\"\"\"\n",
    "SELECT *\n",
    "FROM employees\n",
    "WHERE hire_date > '1999-01-01'\n",
    "Limit 5;\"\"\")\n",
    "records = cursor.fetchall()\n",
    "for record in records:\n",
    "    print(record)"
   ]
  },
  {
   "cell_type": "code",
   "execution_count": 13,
   "id": "a6f0f4a5-7d64-4ae9-a139-8719d2296fe3",
   "metadata": {},
   "outputs": [
    {
     "name": "stdout",
     "output_type": "stream",
     "text": [
      "('d009', 'Customer Service', 110022, 'd001', datetime.date(1985, 1, 1), datetime.date(1991, 10, 1))\n",
      "('d005', 'Development', 110022, 'd001', datetime.date(1985, 1, 1), datetime.date(1991, 10, 1))\n",
      "('d002', 'Finance', 110022, 'd001', datetime.date(1985, 1, 1), datetime.date(1991, 10, 1))\n",
      "('d003', 'Human Resources', 110022, 'd001', datetime.date(1985, 1, 1), datetime.date(1991, 10, 1))\n",
      "('d001', 'Marketing', 110022, 'd001', datetime.date(1985, 1, 1), datetime.date(1991, 10, 1))\n"
     ]
    }
   ],
   "source": [
    "# Perform a Cartesian product on `departments` and `dept_manager` and display 5 records.\n",
    "cursor.execute(\"\"\"\n",
    "SELECT *\n",
    "FROM departments\n",
    "CROSS JOIN dept_manager\n",
    "LIMIT 5;\"\"\")\n",
    "\n",
    "records = cursor.fetchall()\n",
    "for record in records:\n",
    "    print(record)"
   ]
  },
  {
   "cell_type": "code",
   "execution_count": 14,
   "id": "3d596eee-b339-4eaa-b071-d853293693cd",
   "metadata": {},
   "outputs": [
    {
     "name": "stdout",
     "output_type": "stream",
     "text": [
      "(10001, 'Georgi', 'Facello', 10327, 'Roded')\n",
      "(10001, 'Georgi', 'Facello', 12751, 'Nahum')\n",
      "(10001, 'Georgi', 'Facello', 15346, 'Kirk')\n",
      "(10001, 'Georgi', 'Facello', 15685, 'Kasturi')\n",
      "(10001, 'Georgi', 'Facello', 18686, 'Kwangyoen')\n"
     ]
    }
   ],
   "source": [
    "#  Find 5 pairs of employees with the same `last_name`.\n",
    "cursor.execute(\"\"\"\n",
    "SELECT e1.emp_no, e1.first_name, e1.last_name, e2.emp_no, e2.first_name\n",
    "FROM employees e1\n",
    "JOIN employees e2 ON e1.last_name = e2.last_name AND e1.emp_no < e2.emp_no\n",
    "LIMIT 5;\"\"\")\n",
    "\n",
    "records = cursor.fetchall()\n",
    "for record in records:\n",
    "    print(record)"
   ]
  },
  {
   "cell_type": "code",
   "execution_count": 16,
   "id": "d1ba6418-bc31-44cb-be30-8d857514e8be",
   "metadata": {},
   "outputs": [
    {
     "name": "stdout",
     "output_type": "stream",
     "text": [
      "('Georgi Facello',)\n",
      "('Bezalel Simmel',)\n",
      "('Parto Bamford',)\n",
      "('Chirstian Koblick',)\n",
      "('Kyoichi Maliniak',)\n"
     ]
    }
   ],
   "source": [
    "#  Concatenate `first_name` and `last_name` columns display 5 records.\n",
    "cursor.execute(\"\"\"\n",
    "SELECT CONCAT(first_name, \" \", last_name) AS full_name\n",
    "FROM employees\n",
    "LIMIT 5;\"\"\")\n",
    "\n",
    "records = cursor.fetchall()\n",
    "for record in records:\n",
    "    print(record)"
   ]
  },
  {
   "cell_type": "code",
   "execution_count": 18,
   "id": "8029163e-1cf4-4e90-910a-c2556683459f",
   "metadata": {},
   "outputs": [
    {
     "name": "stdout",
     "output_type": "stream",
     "text": [
      "(40184, datetime.date(1962, 2, 27), 'Zvonko', 'Aamodt', 'F', datetime.date(1991, 4, 29))\n",
      "(83170, datetime.date(1956, 9, 17), 'Ziya', 'Aamodt', 'M', datetime.date(1990, 1, 4))\n",
      "(239949, datetime.date(1962, 8, 21), 'Zhiwei', 'Aamodt', 'F', datetime.date(1990, 11, 26))\n",
      "(100010, datetime.date(1959, 11, 6), 'Youpyo', 'Aamodt', 'M', datetime.date(1991, 10, 4))\n",
      "(105323, datetime.date(1953, 2, 15), 'Younwoo', 'Aamodt', 'F', datetime.date(1992, 2, 28))\n"
     ]
    }
   ],
   "source": [
    "#  Order employees by `last_name` in ascending order and `first_name` in descending order, display 5 records.\n",
    "\n",
    "cursor.execute(\"\"\"\n",
    "SELECT *\n",
    "FROM employees\n",
    "ORDER BY last_name ASC, first_name DESC\n",
    "LIMIT 5;\"\"\")\n",
    "\n",
    "records = cursor.fetchall()\n",
    "for record in records:\n",
    "    print(record)"
   ]
  },
  {
   "cell_type": "code",
   "execution_count": 20,
   "id": "1c748d3b-d019-4e5f-aaff-31c1f3fea2bc",
   "metadata": {},
   "outputs": [
    {
     "name": "stdout",
     "output_type": "stream",
     "text": [
      "(10011, datetime.date(1953, 11, 7), 'Mary', 'Sluis', 'F', datetime.date(1990, 1, 22))\n",
      "(10532, datetime.date(1959, 8, 31), 'Mary', 'Wossner', 'F', datetime.date(1986, 5, 18))\n",
      "(11821, datetime.date(1954, 10, 18), 'Mary', 'Piazza', 'F', datetime.date(1995, 12, 13))\n",
      "(12334, datetime.date(1962, 3, 8), 'Mary', 'Ertl', 'F', datetime.date(1990, 3, 6))\n",
      "(13562, datetime.date(1960, 2, 15), 'Mary', 'Cooley', 'M', datetime.date(1986, 2, 24))\n"
     ]
    }
   ],
   "source": [
    "#  Find employees whose `first_name` is either 'Mary' or 'John'.\n",
    "\n",
    "cursor.execute(\"\"\"\n",
    "SELECT *\n",
    "FROM employees\n",
    "WHERE first_name IN ('Mary', 'John')\n",
    "LIMIT 5;\"\"\")\n",
    "records = cursor.fetchall()\n",
    "for record in records:\n",
    "    print(record)"
   ]
  },
  {
   "cell_type": "code",
   "execution_count": 21,
   "id": "b9f4d206-6c8a-4c54-a6fd-bf34328195b8",
   "metadata": {},
   "outputs": [
    {
     "name": "stdout",
     "output_type": "stream",
     "text": [
      "('Aamer', 228)\n",
      "('Aamod', 216)\n",
      "('Abdelaziz', 227)\n",
      "('Abdelghani', 247)\n",
      "('Abdelkader', 222)\n"
     ]
    }
   ],
   "source": [
    "#  Group by `first_name` and filter groups having more than 10 employees\n",
    "\n",
    "cursor.execute(\"\"\"\n",
    "SELECT first_name, COUNT(*) AS employee_count\n",
    "FROM employees\n",
    "GROUP BY first_name\n",
    "HAVING COUNT(*) > 10\n",
    "LIMIT 5;\"\"\")\n",
    "\n",
    "records = cursor.fetchall()\n",
    "for record in records:\n",
    "    print(record)"
   ]
  },
  {
   "cell_type": "code",
   "execution_count": 22,
   "id": "4cccba60-8cbf-46db-aecf-6fe5a915d504",
   "metadata": {},
   "outputs": [
    {
     "name": "stdout",
     "output_type": "stream",
     "text": [
      "(110022, datetime.date(1956, 9, 12), 'Margareta', 'Markovitch', 'M', datetime.date(1985, 1, 1))\n",
      "(110039, datetime.date(1963, 6, 21), 'Vishwani', 'Minakawa', 'M', datetime.date(1986, 4, 12))\n",
      "(110085, datetime.date(1959, 10, 28), 'Ebru', 'Alpin', 'M', datetime.date(1985, 1, 1))\n",
      "(110114, datetime.date(1957, 3, 28), 'Isamu', 'Legleitner', 'F', datetime.date(1985, 1, 14))\n",
      "(110183, datetime.date(1953, 6, 24), 'Shirish', 'Ossenbruggen', 'F', datetime.date(1985, 1, 1))\n"
     ]
    }
   ],
   "source": [
    "#  Use a subquery to find all employees who are also managers\n",
    "\n",
    "cursor.execute(\"\"\"\n",
    "SELECT *\n",
    "FROM employees\n",
    "WHERE emp_no IN (\n",
    "    SELECT emp_no\n",
    "    FROM dept_manager\n",
    ")\n",
    "LIMIT 5;\"\"\")\n",
    "\n",
    "records = cursor.fetchall()\n",
    "for record in records:\n",
    "    print(record)"
   ]
  },
  {
   "cell_type": "code",
   "execution_count": 23,
   "id": "e427c32a-8f01-4669-87e7-569c8d9b2eda",
   "metadata": {},
   "outputs": [
    {
     "name": "stdout",
     "output_type": "stream",
     "text": [
      "(110039, datetime.date(1963, 6, 21), 'Vishwani', 'Minakawa', 'M', datetime.date(1986, 4, 12))\n",
      "(110085, datetime.date(1959, 10, 28), 'Ebru', 'Alpin', 'M', datetime.date(1985, 1, 1))\n",
      "(110114, datetime.date(1957, 3, 28), 'Isamu', 'Legleitner', 'F', datetime.date(1985, 1, 14))\n",
      "(110183, datetime.date(1953, 6, 24), 'Shirish', 'Ossenbruggen', 'F', datetime.date(1985, 1, 1))\n",
      "(110228, datetime.date(1958, 12, 2), 'Karsten', 'Sigstam', 'F', datetime.date(1985, 8, 4))\n"
     ]
    }
   ],
   "source": [
    "#  Find employees whose `emp_no` is greater than some `emp_no` in `dept_manager`.\n",
    "\n",
    "\n",
    "cursor.execute(\"\"\"\n",
    "\n",
    "SELECT *\n",
    "FROM employees\n",
    "WHERE emp_no > ANY (\n",
    "    SELECT emp_no\n",
    "    FROM dept_manager\n",
    ")\n",
    "\n",
    "LIMIT 5;\"\"\")\n",
    "\n",
    "records = cursor.fetchall()\n",
    "for record in records:\n",
    "    print(record)"
   ]
  },
  {
   "cell_type": "code",
   "execution_count": 25,
   "id": "0e24bed2-2fe8-45b7-a47c-87d33a4af63a",
   "metadata": {},
   "outputs": [
    {
     "name": "stdout",
     "output_type": "stream",
     "text": [
      "(0,)\n"
     ]
    }
   ],
   "source": [
    "#  Use a subquery to check if there are any rows in `dept_manager` where `from_date` is after '2000-01-01'\n",
    "\n",
    "\n",
    "cursor.execute(\"\"\"\n",
    "SELECT EXISTS (\n",
    "    SELECT 1\n",
    "    FROM dept_manager\n",
    "    WHERE from_date > '2000-01-01'\n",
    ") AS has_recent_from_date;\n",
    "\n",
    "LIMIT 5;\"\"\")\n",
    "\n",
    "records = cursor.fetchall()\n",
    "for record in records:\n",
    "    print(record)"
   ]
  },
  {
   "cell_type": "code",
   "execution_count": 30,
   "id": "1a437e51-2488-475e-810f-e1ab720683b3",
   "metadata": {},
   "outputs": [
    {
     "name": "stdout",
     "output_type": "stream",
     "text": [
      "(110022, datetime.date(1956, 9, 12), 'Margareta', 'Markovitch', 'M', datetime.date(1985, 1, 1))\n",
      "(110039, datetime.date(1963, 6, 21), 'Vishwani', 'Minakawa', 'M', datetime.date(1986, 4, 12))\n",
      "(110085, datetime.date(1959, 10, 28), 'Ebru', 'Alpin', 'M', datetime.date(1985, 1, 1))\n",
      "(110114, datetime.date(1957, 3, 28), 'Isamu', 'Legleitner', 'F', datetime.date(1985, 1, 14))\n",
      "(110183, datetime.date(1953, 6, 24), 'Shirish', 'Ossenbruggen', 'F', datetime.date(1985, 1, 1))\n"
     ]
    }
   ],
   "source": [
    "#  Find employees who are managers using EXISTS clause.\n",
    "\n",
    "cursor.execute(\"\"\"\n",
    "\n",
    "SELECT *\n",
    "FROM employees e\n",
    "WHERE EXISTS (\n",
    "    SELECT 1\n",
    "    FROM dept_manager dm\n",
    "    WHERE dm.emp_no = e.emp_no\n",
    ")\n",
    "\n",
    "LIMIT 5;\"\"\")\n",
    "\n",
    "records = cursor.fetchall()\n",
    "for record in records:\n",
    "    print(record)"
   ]
  },
  {
   "cell_type": "code",
   "execution_count": 31,
   "id": "f583aeda-f962-405f-9b18-299632488340",
   "metadata": {},
   "outputs": [
    {
     "name": "stdout",
     "output_type": "stream",
     "text": [
      "('Tsukuda',)\n"
     ]
    }
   ],
   "source": [
    "#  Use a scalar subquery to find the `last_name` of the employee with the highest `emp_no`.\n",
    "\n",
    "cursor.execute(\"\"\"\n",
    "SELECT last_name\n",
    "FROM employees\n",
    "WHERE emp_no = (SELECT MAX(emp_no) FROM employees);\n",
    "\"\"\")\n",
    "\n",
    "records = cursor.fetchall()\n",
    "for record in records:\n",
    "    print(record)"
   ]
  },
  {
   "cell_type": "code",
   "execution_count": 32,
   "id": "29d73c6a-218c-4c1b-a0b6-a3399db5d071",
   "metadata": {},
   "outputs": [
    {
     "name": "stdout",
     "output_type": "stream",
     "text": [
      "(Decimal('65.9181'), 59, 72)\n"
     ]
    }
   ],
   "source": [
    "#  Find the average, minimum, and maximum age of employees. YEAR(CURDATE()）is the command for current year\n",
    "\n",
    "cursor.execute(\"\"\"\n",
    "\n",
    "SELECT \n",
    "    AVG(YEAR(CURDATE()) - YEAR(birth_date)) AS average_age,\n",
    "    MIN(YEAR(CURDATE()) - YEAR(birth_date)) AS minimum_age,\n",
    "    MAX(YEAR(CURDATE()) - YEAR(birth_date)) AS maximum_age\n",
    "FROM employees;\n",
    "\n",
    "\"\"\")\n",
    "\n",
    "records = cursor.fetchall()\n",
    "for record in records:\n",
    "    print(record)"
   ]
  },
  {
   "cell_type": "code",
   "execution_count": 33,
   "id": "3b2ee91e-68d4-4296-84d8-c35f77a8a84b",
   "metadata": {},
   "outputs": [
    {
     "name": "stdout",
     "output_type": "stream",
     "text": [
      "('Aamer', 228)\n",
      "('Aamod', 216)\n",
      "('Abdelaziz', 227)\n",
      "('Abdelghani', 247)\n",
      "('Abdelkader', 222)\n"
     ]
    }
   ],
   "source": [
    "#  Group by `first_name` and filter groups having more than 10 employees who have been hired for more than 15 years.\n",
    "\n",
    "cursor.execute(\"\"\"\n",
    "\n",
    "SELECT first_name, COUNT(*) AS employee_count\n",
    "FROM employees\n",
    "WHERE YEAR(CURDATE()) - YEAR(hire_date) > 15\n",
    "GROUP BY first_name\n",
    "HAVING COUNT(*) > 10\n",
    "\n",
    "LIMIT 5;\"\"\")\n",
    "\n",
    "records = cursor.fetchall()\n",
    "for record in records:\n",
    "    print(record)"
   ]
  },
  {
   "cell_type": "code",
   "execution_count": 34,
   "id": "b7279253-c135-4567-a3e7-8257f47511a9",
   "metadata": {},
   "outputs": [
    {
     "name": "stdout",
     "output_type": "stream",
     "text": [
      "(10001, datetime.date(1953, 9, 2), 'Georgi', 'Facello', 'M', datetime.date(1986, 6, 26))\n",
      "(10004, datetime.date(1954, 5, 1), 'Chirstian', 'Koblick', 'M', datetime.date(1986, 12, 1))\n",
      "(10005, datetime.date(1955, 1, 21), 'Kyoichi', 'Maliniak', 'M', datetime.date(1989, 9, 12))\n",
      "(10006, datetime.date(1953, 4, 20), 'Anneke', 'Preusig', 'F', datetime.date(1989, 6, 2))\n",
      "(10007, datetime.date(1957, 5, 23), 'Tzvetan', 'Zielinski', 'F', datetime.date(1989, 2, 10))\n"
     ]
    }
   ],
   "source": [
    "#  Find employees whose age is above the average age.\n",
    "\n",
    "cursor.execute(\"\"\"\n",
    "\n",
    "SELECT *\n",
    "FROM employees\n",
    "WHERE (YEAR(CURDATE()) - YEAR(birth_date)) > (\n",
    "    SELECT AVG(YEAR(CURDATE()) - YEAR(birth_date))\n",
    "    FROM employees\n",
    ")\n",
    "\n",
    "LIMIT 5;\"\"\")\n",
    "\n",
    "records = cursor.fetchall()\n",
    "for record in records:\n",
    "    print(record)"
   ]
  },
  {
   "cell_type": "code",
   "execution_count": 36,
   "id": "9489f5b0-7b70-4b6c-86ab-a7aaf4dafd73",
   "metadata": {},
   "outputs": [
    {
     "name": "stdout",
     "output_type": "stream",
     "text": [
      "('Mary', 'Sluis', 'Customer Service')\n",
      "('Huan', 'Lortz', 'Customer Service')\n",
      "('Basil', 'Tramer', 'Customer Service')\n",
      "('Breannda', 'Billingsley', 'Customer Service')\n",
      "('Jungsoon', 'Syrzycki', 'Customer Service')\n"
     ]
    }
   ],
   "source": [
    "#  List the first name, last name, and department name of all employees.\n",
    "\n",
    "cursor.execute(\"\"\"\n",
    "SELECT e.first_name, e.last_name, d.dept_name\n",
    "FROM departments d\n",
    "LEFT JOIN dept_emp de ON d.dept_no = de.dept_no\n",
    "LEFT JOIN employees e ON de.emp_no = e.emp_no\n",
    "LIMIT 5;\"\"\")\n",
    "\n",
    "records = cursor.fetchall()\n",
    "for record in records:\n",
    "    print(record)"
   ]
  },
  {
   "cell_type": "code",
   "execution_count": 37,
   "id": "613c0723-9b80-45db-942d-6ac10a10964b",
   "metadata": {},
   "outputs": [
    {
     "name": "stdout",
     "output_type": "stream",
     "text": [
      "('Georgi', 'Facello', 'Development')\n",
      "('Bezalel', 'Simmel', 'Sales')\n",
      "('Parto', 'Bamford', 'Production')\n",
      "('Chirstian', 'Koblick', 'Production')\n",
      "('Kyoichi', 'Maliniak', 'Human Resources')\n"
     ]
    }
   ],
   "source": [
    "#  List all employees and the names of the department they work in, including those without a department.\n",
    "\n",
    "cursor.execute(\"\"\"\n",
    "SELECT e.first_name, e.last_name, d.dept_name\n",
    "FROM employees e\n",
    "LEFT JOIN dept_emp de ON e.emp_no = de.emp_no\n",
    "LEFT JOIN departments d ON de.dept_no = d.dept_no\n",
    "LIMIT 5;\"\"\")\n",
    "\n",
    "records = cursor.fetchall()\n",
    "for record in records:\n",
    "    print(record)"
   ]
  },
  {
   "cell_type": "code",
   "execution_count": 39,
   "id": "45f6132c-3a57-48dd-b22a-8b13c7594efc",
   "metadata": {},
   "outputs": [
    {
     "name": "stdout",
     "output_type": "stream",
     "text": [
      "('Mary', 'Sluis', 'Customer Service')\n",
      "('Huan', 'Lortz', 'Customer Service')\n",
      "('Basil', 'Tramer', 'Customer Service')\n",
      "('Breannda', 'Billingsley', 'Customer Service')\n",
      "('Jungsoon', 'Syrzycki', 'Customer Service')\n"
     ]
    }
   ],
   "source": [
    "#  List all departments and the names of the employees who work in them, including departments without employees.\n",
    "\n",
    "cursor.execute(\"\"\"\n",
    "\n",
    "SELECT e.first_name, e.last_name, d.dept_name\n",
    "FROM departments d\n",
    "LEFT JOIN dept_emp de ON d.dept_no = de.dept_no\n",
    "LEFT JOIN employees e ON de.emp_no = e.emp_no\n",
    "\n",
    "\n",
    "LIMIT 5;\"\"\")\n",
    "\n",
    "records = cursor.fetchall()\n",
    "for record in records:\n",
    "    print(record)"
   ]
  },
  {
   "cell_type": "code",
   "execution_count": 43,
   "id": "92ac7621-d77d-4dae-b8f3-3c2fe678a7fb",
   "metadata": {},
   "outputs": [
    {
     "name": "stdout",
     "output_type": "stream",
     "text": [
      "('Human Resources', Decimal('65.9490'))\n"
     ]
    }
   ],
   "source": [
    "#  Find the department with the maximum average age of employees.\n",
    "\n",
    "cursor.execute(\"\"\"\n",
    "SELECT d.dept_name, AVG(YEAR(CURDATE()) - YEAR(e.birth_date)) AS average_age\n",
    "FROM employees e\n",
    "JOIN dept_emp de ON e.emp_no = de.emp_no\n",
    "JOIN departments d ON de.dept_no = d.dept_no\n",
    "GROUP BY d.dept_name\n",
    "ORDER BY average_age DESC\n",
    "LIMIT 1;\n",
    "\n",
    "\"\"\")\n",
    "\n",
    "records = cursor.fetchall()\n",
    "for record in records:\n",
    "    print(record)"
   ]
  },
  {
   "cell_type": "code",
   "execution_count": 45,
   "id": "0e355746-04ac-44af-92c2-57edaa26598d",
   "metadata": {},
   "outputs": [
    {
     "name": "stdout",
     "output_type": "stream",
     "text": [
      "(111692, 'Customer Service')\n",
      "(111692, 'Customer Service')\n",
      "(111692, 'Customer Service')\n",
      "(111692, 'Customer Service')\n",
      "(111692, 'Customer Service')\n"
     ]
    }
   ],
   "source": [
    "#  List the managers IDs and departments who have been working for more than 15 years in their department and have at least one employee in their department older than them.\n",
    "\n",
    "cursor.execute(\"\"\"\n",
    "\n",
    "\n",
    "SELECT dm.emp_no, d.dept_name\n",
    "FROM dept_manager dm\n",
    "JOIN departments d ON dm.dept_no = d.dept_no\n",
    "JOIN employees m ON dm.emp_no = m.emp_no\n",
    "JOIN dept_emp de ON dm.dept_no = de.dept_no\n",
    "JOIN employees e ON de.emp_no = e.emp_no\n",
    "WHERE (YEAR(CURDATE()) - YEAR(dm.from_date)) > 15\n",
    "AND (YEAR(CURDATE()) - YEAR(e.birth_date)) > (YEAR(CURDATE()) - YEAR(m.birth_date))\n",
    "\n",
    "LIMIT 5;\"\"\")\n",
    "\n",
    "\n",
    "\n",
    "records = cursor.fetchall()\n",
    "for record in records:\n",
    "    print(record)"
   ]
  },
  {
   "cell_type": "markdown",
   "id": "7bbd960f-892a-4f0e-a6ac-2da436d5a625",
   "metadata": {},
   "source": [
    "<font size=\"3\">Close the cursor and shutdown the connenction</font>"
   ]
  },
  {
   "cell_type": "code",
   "execution_count": 46,
   "id": "44c4417b-fe0e-4259-8641-313e9807c7b7",
   "metadata": {},
   "outputs": [
    {
     "name": "stdout",
     "output_type": "stream",
     "text": [
      "MySQL connection is closed\n"
     ]
    }
   ],
   "source": [
    "cursor.close()\n",
    "connection.close()\n",
    "print(\"MySQL connection is closed\")"
   ]
  },
  {
   "cell_type": "code",
   "execution_count": null,
   "id": "5c8efc38-a8ee-41f1-bd4c-da8af12f73a6",
   "metadata": {},
   "outputs": [],
   "source": []
  }
 ],
 "metadata": {
  "kernelspec": {
   "display_name": "Python 3 (ipykernel)",
   "language": "python",
   "name": "python3"
  },
  "language_info": {
   "codemirror_mode": {
    "name": "ipython",
    "version": 3
   },
   "file_extension": ".py",
   "mimetype": "text/x-python",
   "name": "python",
   "nbconvert_exporter": "python",
   "pygments_lexer": "ipython3",
   "version": "3.10.12"
  }
 },
 "nbformat": 4,
 "nbformat_minor": 5
}
